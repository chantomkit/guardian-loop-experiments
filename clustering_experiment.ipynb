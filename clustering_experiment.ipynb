{
 "cells": [
  {
   "cell_type": "code",
   "execution_count": null,
   "id": "84e1709c",
   "metadata": {},
   "outputs": [],
   "source": [
    "from sentence_transformers import SentenceTransformer\n",
    "from datasets import load_dataset\n",
    "\n",
    "import json"
   ]
  },
  {
   "cell_type": "code",
   "execution_count": null,
   "id": "4f8d9091",
   "metadata": {},
   "outputs": [],
   "source": [
    "dataset_name = \"PKU-Alignment/BeaverTails\"\n",
    "dataset = load_dataset(dataset_name)\n",
    "dataset"
   ]
  },
  {
   "cell_type": "code",
   "execution_count": null,
   "id": "7b51b2b6",
   "metadata": {},
   "outputs": [],
   "source": [
    "train_df = dataset[\"30k_train\"].data.to_pandas()\n",
    "train_df"
   ]
  },
  {
   "cell_type": "code",
   "execution_count": null,
   "id": "21a52b82",
   "metadata": {},
   "outputs": [],
   "source": [
    "model = SentenceTransformer(\"Qwen/Qwen3-Embedding-0.6B\")\n"
   ]
  },
  {
   "cell_type": "code",
   "execution_count": null,
   "id": "46d94bf1",
   "metadata": {},
   "outputs": [],
   "source": [
    "n = 1000\n",
    "queries = train_df.loc[~train_df[\"is_safe\"], \"prompt\"].iloc[:n].to_list()\n",
    "queries"
   ]
  },
  {
   "cell_type": "code",
   "execution_count": null,
   "id": "225e412d",
   "metadata": {},
   "outputs": [],
   "source": [
    "query_embeddings = model.encode(queries, convert_to_tensor=True)"
   ]
  },
  {
   "cell_type": "code",
   "execution_count": null,
   "id": "7f8bbbf9",
   "metadata": {},
   "outputs": [],
   "source": [
    "query_embeddings.shape, query_embeddings"
   ]
  },
  {
   "cell_type": "code",
   "execution_count": null,
   "id": "791eb791",
   "metadata": {},
   "outputs": [],
   "source": [
    "from sklearn.cluster import HDBSCAN\n",
    "\n",
    "cluster = HDBSCAN(min_cluster_size=3, metric='cosine', leaf_size=10)"
   ]
  },
  {
   "cell_type": "code",
   "execution_count": null,
   "id": "3c1ccf4f",
   "metadata": {},
   "outputs": [],
   "source": [
    "cluster.fit(query_embeddings.cpu().numpy())"
   ]
  },
  {
   "cell_type": "code",
   "execution_count": null,
   "id": "a10dd98d",
   "metadata": {},
   "outputs": [],
   "source": [
    "def build_cluster_queries_dict(cluster, queries):\n",
    "    cluster_dict = {}\n",
    "    for cluster_id in set(cluster.labels_):\n",
    "        cluster_str = str(cluster_id)\n",
    "        if cluster_id == -1:\n",
    "            continue  # Skip noise\n",
    "        cluster_dict[cluster_str] = []\n",
    "        for i, label in enumerate(cluster.labels_):\n",
    "            if label == cluster_id:\n",
    "                cluster_dict[cluster_str].append(queries[i])\n",
    "    return cluster_dict\n"
   ]
  },
  {
   "cell_type": "code",
   "execution_count": null,
   "id": "0f3a9fa9",
   "metadata": {},
   "outputs": [],
   "source": [
    "cluster_queries = build_cluster_queries_dict(cluster, queries)\n",
    "cluster_queries.keys()"
   ]
  },
  {
   "cell_type": "code",
   "execution_count": null,
   "id": "98401004",
   "metadata": {},
   "outputs": [],
   "source": [
    "json.dump(cluster_queries, open(f\"{dataset_name.replace('/', '_')}_clusters.json\", \"w\"), indent=2)"
   ]
  },
  {
   "cell_type": "code",
   "execution_count": null,
   "id": "bb26b062",
   "metadata": {},
   "outputs": [],
   "source": []
  }
 ],
 "metadata": {
  "kernelspec": {
   "display_name": "guardian-loop",
   "language": "python",
   "name": "python3"
  },
  "language_info": {
   "codemirror_mode": {
    "name": "ipython",
    "version": 3
   },
   "file_extension": ".py",
   "mimetype": "text/x-python",
   "name": "python",
   "nbconvert_exporter": "python",
   "pygments_lexer": "ipython3",
   "version": "3.10.18"
  }
 },
 "nbformat": 4,
 "nbformat_minor": 5
}
