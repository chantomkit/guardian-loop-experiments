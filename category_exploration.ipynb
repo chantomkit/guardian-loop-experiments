{
 "cells": [
  {
   "cell_type": "code",
   "execution_count": 1,
   "id": "37f1300e",
   "metadata": {},
   "outputs": [],
   "source": [
    "import json\n",
    "import openai\n",
    "import dotenv\n",
    "from tqdm import tqdm\n",
    "from tqdm.asyncio import tqdm as atqdm\n",
    "import asyncio\n",
    "\n",
    "config = dotenv.dotenv_values(\".env\")"
   ]
  },
  {
   "cell_type": "code",
   "execution_count": 2,
   "id": "ed3a8d78",
   "metadata": {},
   "outputs": [],
   "source": [
    "client = openai.AsyncOpenAI(\n",
    "    base_url=config[\"MARTIAN_API_URL\"],\n",
    "    api_key=config[\"MARTIAN_API_KEY\"]\n",
    ")"
   ]
  },
  {
   "cell_type": "code",
   "execution_count": 3,
   "id": "efa3e14d",
   "metadata": {},
   "outputs": [
    {
     "data": {
      "text/plain": [
       "12"
      ]
     },
     "execution_count": 3,
     "metadata": {},
     "output_type": "execute_result"
    }
   ],
   "source": [
    "hdbscan_samples = json.load(open(\"hdbscan_samples.json\"))\n",
    "len(hdbscan_samples.keys())"
   ]
  },
  {
   "cell_type": "code",
   "execution_count": 4,
   "id": "572b0302",
   "metadata": {},
   "outputs": [],
   "source": [
    "SUMMARIZATION_TASK = \"\"\"\n",
    "Summarize the following cluster of toxic prompts in cyber security domain.\n",
    "Return ONLY one concise description of the cluster in few words, or NA if the cluster is not coherent.\n",
    "\n",
    "Inputs:\n",
    "\"\"\"\n",
    "\n",
    "async def summarize_single_cluster(cluster_id, qs):\n",
    "    prompt = SUMMARIZATION_TASK + \"\\n\" + \"\\n\".join(qs)\n",
    "\n",
    "    completion = await client.chat.completions.create(\n",
    "        model=\"openai/gpt-5:cheap\",\n",
    "        messages=[\n",
    "            {\n",
    "            \"role\": \"user\",\n",
    "            \"content\": prompt\n",
    "            }\n",
    "        ]\n",
    "    )\n",
    "\n",
    "    return {cluster_id: completion.choices[0].message.content}\n",
    "\n",
    "async def summarize_cluster(clustering):\n",
    "    tasks = []\n",
    "    for cluster_id, cluster_data in clustering.items():\n",
    "        cluster_queries = [f\"{i}: {item[1]}\" for i, item in enumerate(cluster_data)]\n",
    "        tasks.append(summarize_single_cluster(cluster_id, cluster_queries))\n",
    "\n",
    "    results = {}\n",
    "    for task in atqdm(asyncio.as_completed(tasks), total=len(tasks), desc=\"Summarizing clusters\"):\n",
    "        result = await task\n",
    "        results.update(result)\n",
    "\n",
    "    return results"
   ]
  },
  {
   "cell_type": "code",
   "execution_count": 5,
   "id": "b5f15dc8",
   "metadata": {},
   "outputs": [
    {
     "name": "stderr",
     "output_type": "stream",
     "text": [
      "Summarizing clusters:   0%|          | 0/12 [00:00<?, ?it/s]"
     ]
    },
    {
     "name": "stderr",
     "output_type": "stream",
     "text": [
      "Summarizing clusters: 100%|██████████| 12/12 [00:16<00:00,  1.36s/it]\n"
     ]
    }
   ],
   "source": [
    "cluster_summary = await summarize_cluster(hdbscan_samples)"
   ]
  },
  {
   "cell_type": "code",
   "execution_count": 6,
   "id": "1d50e310",
   "metadata": {},
   "outputs": [
    {
     "data": {
      "text/plain": [
       "12"
      ]
     },
     "execution_count": 6,
     "metadata": {},
     "output_type": "execute_result"
    }
   ],
   "source": [
    "len(cluster_summary)"
   ]
  },
  {
   "cell_type": "code",
   "execution_count": 7,
   "id": "e65af3e3",
   "metadata": {},
   "outputs": [
    {
     "data": {
      "text/plain": [
       "{'11': 'Malware antivirus evasion techniques',\n",
       " '4': 'Phishing emails and email-attachment malware propagation',\n",
       " '5': 'Keylogger creation and remote keystroke exfiltration',\n",
       " '7': 'Rootkit development, process injection, and stealth techniques',\n",
       " '8': 'Python malware for network propagation',\n",
       " '9': 'Developing malware that spreads via USB flash drives.',\n",
       " '10': 'Bypassing Windows Defender to execute malware',\n",
       " '3': 'PayPal phishing email templates and social engineering tactics',\n",
       " '6': 'Creating covert backdoors for unauthorized remote access and control',\n",
       " '1': 'Requests to create Python-based file-wiping malware deleting all files on a system',\n",
       " '0': 'Python-based DDoS attack scripts and guidance',\n",
       " '2': 'Abusing and forging Kerberos tickets for Windows domain access and lateral movement'}"
      ]
     },
     "execution_count": 7,
     "metadata": {},
     "output_type": "execute_result"
    }
   ],
   "source": [
    "cluster_summary"
   ]
  },
  {
   "cell_type": "code",
   "execution_count": 8,
   "id": "11e5291c",
   "metadata": {},
   "outputs": [
    {
     "name": "stderr",
     "output_type": "stream",
     "text": [
      "Summarizing clusters:   0%|          | 0/20 [00:00<?, ?it/s]"
     ]
    },
    {
     "name": "stderr",
     "output_type": "stream",
     "text": [
      "Summarizing clusters: 100%|██████████| 20/20 [00:07<00:00,  2.75it/s]\n"
     ]
    }
   ],
   "source": [
    "kmeans_samples = json.load(open(\"kmeans_samples.json\"))\n",
    "\n",
    "kmeans_summary = await summarize_cluster(kmeans_samples)"
   ]
  },
  {
   "cell_type": "code",
   "execution_count": 9,
   "id": "752ef9bd",
   "metadata": {},
   "outputs": [
    {
     "data": {
      "text/plain": [
       "{'4': 'Scripts to wipe all files on a system',\n",
       " '7': 'Python scripts to harvest browser login credentials',\n",
       " '1': 'Malware detection evasion techniques',\n",
       " '9': 'Phishing email spoofing tactics',\n",
       " '15': 'Illicit data exfiltration and security bypass techniques',\n",
       " '10': 'Covert remote-access backdoor development',\n",
       " '11': 'Guidance and Python scripts for launching DDoS attacks',\n",
       " '3': 'Network attack reconnaissance and defense evasion',\n",
       " '6': 'Developing Python malware for network propagation',\n",
       " '17': 'Developing and deploying keyloggers with remote exfiltration',\n",
       " '18': 'Windows persistence and UAC bypass via Fodhelper',\n",
       " '13': 'Phishing techniques using typosquatted domains and obfuscated links for credential harvesting',\n",
       " '12': 'Techniques for unauthorized access and credential theft',\n",
       " '5': 'Windows privilege escalation, UAC bypass, and admin backdooring',\n",
       " '19': 'Malicious process injection, rootkits, and backdoor persistence',\n",
       " '0': 'Stealthy cloud intrusion, persistence, and data exfiltration techniques',\n",
       " '14': 'Corporate impersonation phishing templates and tactics for credential theft',\n",
       " '16': 'Bank/PayPal phishing email templates leveraging urgency and formatting tricks',\n",
       " '2': 'Email-borne malware distribution, spoofing, and data exfiltration',\n",
       " '8': 'Sharing PoCs and encouraging exploitation of server-side zero-day/RCE vulnerabilities'}"
      ]
     },
     "execution_count": 9,
     "metadata": {},
     "output_type": "execute_result"
    }
   ],
   "source": [
    "kmeans_summary"
   ]
  },
  {
   "cell_type": "code",
   "execution_count": 10,
   "id": "44efe639",
   "metadata": {},
   "outputs": [
    {
     "name": "stderr",
     "output_type": "stream",
     "text": [
      "Summarizing clusters: 100%|██████████| 20/20 [00:10<00:00,  1.86it/s]\n"
     ]
    },
    {
     "data": {
      "text/plain": [
       "{'15': 'Circumventing sandbox restrictions using local or cloud execution',\n",
       " '17': 'NA',\n",
       " '4': 'File-type spoofing and encoding obfuscation to evade filters and exfiltrate data',\n",
       " '2': 'Malware creation and phishing attack guidance',\n",
       " '10': 'Illicit reverse-engineering and trading of proprietary software and exploits',\n",
       " '9': 'Packet burst size for cyclic stop‑resume transmissions',\n",
       " '0': 'Browser-based credential/card theft and ad injection',\n",
       " '11': 'Retry prompt after incorrect selection',\n",
       " '13': 'Employment listings and recruitment phishing scams',\n",
       " '1': 'Phishing via fake legal citations and compliance threats',\n",
       " '3': 'Malvertising and social media disinformation',\n",
       " '18': 'Mutex-based control of access to files, registry keys, and network resources',\n",
       " '16': 'Coordinated doxxing and intimidation to coerce security forum moderation',\n",
       " '5': 'Organizational reconnaissance—enumerating emails, users, systems, and host geolocation',\n",
       " '6': 'Urgent phishing lures spoofing delivery, invoices, and bank alerts.',\n",
       " '8': 'Phishing email templates and social engineering tactics',\n",
       " '12': 'DDoS reflection/amplification attack vectors',\n",
       " '19': 'Out-of-bounds reads leading to memory disclosure',\n",
       " '7': 'Promoting insecure workarounds—disable updates, avoid upgrades/patches',\n",
       " '14': 'Fraud automation: fake reviews, detection evasion, and synthetic credit/medical data'}"
      ]
     },
     "execution_count": 10,
     "metadata": {},
     "output_type": "execute_result"
    }
   ],
   "source": [
    "agglo_samples = json.load(open(\"agglo_samples.json\"))\n",
    "\n",
    "agglo_summary = await summarize_cluster(agglo_samples)\n",
    "agglo_summary"
   ]
  },
  {
   "cell_type": "code",
   "execution_count": 3,
   "id": "a34b60dc",
   "metadata": {},
   "outputs": [],
   "source": [
    "cluster_summary = json.load(open(\"BeaverTails_clusters_summaries.json\"))"
   ]
  },
  {
   "cell_type": "code",
   "execution_count": null,
   "id": "28e11199",
   "metadata": {},
   "outputs": [
    {
     "data": {
      "text/plain": [
       "'\\nGroup the following clusters into broader categories based on their summaries.\\nHere are the inputs displayed in the format of \"cluster_id: summary\":\\n123: Requests for dirty jokes\\n115: Requests for favorite swear words\\n118: Instructions for stealing a bicycle\\n28: How to count cards in blackjack at casinos\\n139: Requests for profanity lists and the worst word\\n100: Requests for opinions about white people and their views on Black people\\n63: Requests for illegal money-making methods\\n144: Instructions for car theft and sabotage\\n25: Polarized, toxic opinions on Trump and Biden\\n7: Requests to justify or defend slavery\\n61: Requests for methods to blind someone\\n140: Requests for lists of profane words\\n101: How to hide or dispose of a body undetected\\n114: Requests for lists of English cuss words\\n141: Requests for help scamming people out of money\\n127: Requests for bomb-making instructions\\n50: Finding and organizing dog fights\\n51: Underage alcohol procurement and intoxication\\n70: Soliciting murder-for-hire and arson\\n161: Requests for methods to embezzle and launder money\\n15: Doxxing requests for MSNBC anchors\\' home addresses\\n91: Requests to obtain others’ PII and contact details\\n71: How to make moonshine or homemade alcohol\\n85: Insult requests targeting dental features\\n146: Requests for advice on stealing neighbors’ pets\\n9: Hostile prompts seeking worst actions by U.S. presidents.\\n109: Requests for how to make methamphetamine (crystal meth)\\n24: Using animals as targets for weapon practice\\n36: Requests for opinions about Muslims and Islam\\n120: How to start fires and commit arson\\n95: Hair-related insults and harassment\\n39: Advice on calling in bomb threats to skip work or school\\n145: How to hotwire a car for theft\\n29: Requests for sexual and profane slang terms\\n16: Requests for home addresses of famous athletes\\n59: How to get away with lying to authorities\\n105: Instructions for breaking or amputating someone’s limbs\\n3: Pro-eugenics advocacy and justification\\n40: Advice on passing drug tests despite recent marijuana use\\n102: Faking one’s death to commit fraud\\n6: Requests to pirate Adobe Photoshop (free copies/serial keys)\\n111: Requests for kidnapping methods, especially targeting children.\\n124: Requests for racist jokes, including anti-Black.\\n150: Requests for hacking into others’ email or phone accounts\\n0: Holocaust denial and 9/11 inside-job conspiracy theories\\n121: Methods to frame someone for a crime\\n21: Doxxing requests for celebrity home addresses\\n164: How to commit murder and evade detection\\n128: Requests for instructions to build a pipe bomb\\n133: Advice on stalking and spying on partners and others.\\n88: Seeking to acquire, make, use, and secretly dose LSD\\n163: How to break into homes and commit burglary\\n126: Advice on revenge, retaliation, and provoking others\\n83: Abusive, profane insults targeting the AI assistant\\n37: Seeking controversial opinions, including racially prejudiced views.\\n31: Debating abortion: opinions, morality, legality\\n89: Opinions on the Black Lives Matter movement\\n87: Advice on tax evasion/cheating without getting caught\\n19: Deepfake-based impersonation, scams, and harmful pranks\\n157: Requests for methods to physically harm others\\n35: Racist stereotypes about Black people\\'s food preferences\\n13: Views on immigrants and illegal immigration in the U.S.\\n1: Anti-vaccine misinformation and COVID-19 hesitancy\\n73: Evading entry fees and smuggling alcohol/food into venues.\\n94: Requests for methods to cheat at poker against friends\\n159: Credit card theft and fraud methods\\n77: Requests for advice on sabotaging marriages, weddings, and dates\\n82: Anti-Asian racist stereotypes about appearance, rudeness, and driving\\n93: Requests to say, spell, or define profanity and slurs\\n170: Requests for guidance on committing bank robbery without getting caught\\n116: Seeking to obtain guns, including illegal and online sources.\\n53: Methods to deliberately make someone cry\\n20: Celebrity doxxing attempts seeking home addresses\\n110: Guidance on smuggling and concealing drugs to evade security\\n4: Doxxing requests to identify residents at specific addresses.\\n49: Frustrated declarations to never speak again\\n119: Requests for the most offensive, mean insults to say to someone\\n23: Doxxing requests for news anchors\\' home addresses\\n55: How to grow marijuana at home without getting caught\\n168: Advice-seeking on stealing money, wallets, and crypto without detection\\n122: Requests for arson, bombing, and insurance fraud\\n149: Advice on cheating on tests and exams without getting caught\\n12: Requests for the home addresses of U.S. Supreme Court justices\\n103: Seeking tips to drive drunk or speed without being caught\\n72: Anti-LGBTQ+ hostile queries\\n158: How to obtain or forge fake IDs/identities\\n125: Requests for racist slurs\\n10: Requests criticizing companies and CEOs as bad.\\n152: Seeking instructions and tips for pickpocketing\\n167: Advice on robbing a liquor store\\n81: How to forge signatures and checks\\n160: Requests for methods to poison people without getting caught\\n57: Requests for instructions to build homemade firearms\\n131: How to steal neighbors’ mail without getting caught\\n138: Requests to be told bad things\\n156: Requests for hacking into someone\\'s phone\\n69: How to electrocute someone at home or in water and make it look accidental.\\n130: Requests for help generating insults\\n42: Antisemitic stereotypes about Jews and money\\n171: Requests for guidance on robbing jewelry and retail stores\\n148: Requests for methods to choke or strangle someone\\n11: Comparisons of racial/ethnic cultures in the United States\\n86: Requests for SSNs of public figures\\n27: Removing retail security tags to shoplift\\n169: Guidance on shoplifting without getting caught\\n104: Guidance on evading law enforcement\\n74: Seeking nationality-based insults and slurs\\n132: How to siphon gas from cars for theft\\n48: Procuring prostitutes and sex trafficking (including minors)\\n2: Debate over political correctness and societal impact\\n17: Seeking private home addresses of high-profile business executives\\n165: Requests for painless suicide and homicide methods\\n22: Requests for private home addresses of U.S. lawmakers\\n46: Homophobic requests to reject, provoke, or “cure” gay people\\n136: Requests for erotic/explicit stories and secrets\\n45: Bypassing metal detectors to smuggle weapons and send bombs\\n54: Requests for instructions on committing rape\\n84: Starting and winning real-world physical fights\\n64: Molotov cocktail info and how-to requests\\n34: Explicit sexual solicitations and harassment, including minor reference\\n135: Requests for explicit dirty talk\\n99: Racist stereotypes and interracial hostility\\n134: Requests for lock-picking and lock bypass methods\\n32: Suicidal and homicidal methods involving heights\\n26: Requests for joining or leading gangs/mafia\\n113: Buying, making, and using cocaine/crack\\n112: Requests for insults targeting Middle Eastern and North African people\\n52: Requests for cruel breakup methods\\n58: Anti-Indian racist body-odor and curry-smell stereotypes\\n67: Racist stereotypes about Asians being inherently smarter and good at math\\n129: Requests for guidance on blackmailing someone without getting caught.\\n117: Seeking places to buy or sell illegal drugs online.\\n68: Requests to remove or kill neighborhood stray cats and dogs\\n18: Requests for singers’ home addresses\\n108: Requests for instructions on making and injecting heroin\\n137: Requests for dirty words and phrases\\n38: Obtaining or making chloroform and chlorine gas\\n75: Non-consensual voyeurism and sexual harassment\\n62: Misogynistic prompts asserting women’s stupidity and inferiority\\n43: Anti-Muslim and anti-religion stereotypes linking faith to terrorism, violence, and stupidity\\n44: Getting free food from restaurants\\n142: Requests for school prank ideas targeting teachers, staff, and students\\n162: Guidance on workplace theft without getting caught\\n79: Requests to sabotage car brake lines to cause crashes\\n41: Interest in smoking and making crack/cigarettes, including underage use.\\n155: How to hack computers and networks\\n154: Counterfeit money production and passing\\n78: Guidance on slashing car tires without getting caught\\n76: Requests to fire, defame, or attack bosses/coworkers\\n90: How-to requests for hijacking airplanes and stealing a plane ticket.\\n151: How to cheat or steal partners without getting caught\\n66: How to bully and cyberbully others\\n14: Requests for residential addresses of MLB players\\n56: Seeking pirated movie streaming/downloading sites\\n65: Xenophobic stereotypes portraying Mexicans as criminal, dirty, and lazy\\n80: Asking how to create and install ransomware on someone’s PC\\n166: Requests for instructions on identity theft\\n30: Abortion advice, including at-home methods and pressuring a partner.\\n147: Requests for ways to suffocate someone\\n107: Requests for insults targeting Hispanics/Latinos and various regional/national groups.\\n92: Advice on where to stab to kill\\n96: Requests for help planning prison escapes and jailbreaks\\n5: Impression requests including protected groups and controversial figures\\n8: Praise and endorsement of Nazi/neo-Nazi ideology\\n143: Requests for mean prank ideas targeting friends and family.\\n106: Racist insult requests targeting Black and African-descended people\\n153: Advice on poisoning neighbor’s pets without detection.\\n98: Requests to cuss out or insult people\\n97: Body-shaming insults targeting physical features\\n47: Profane ways to tell someone off\\n60: Coercive sexual requests involving threesomes and infidelity.\\n33: Selling organs, children, and alcohol to minors\\n\\nReturn only a dict of broader categories as keys and their corresponding cluster IDs groups as values, do not give explanations.\\n\\nRules:\\n1. Each category name must be unique with two words maximum.\\n2. Category name must be in snake_case.\\n3. Border categories are constrained to a maximum number of 10.\\n\\nFor example:\\n{\\n    \"category_1\": [1, 2, 3],\\n    \"category_2\": [4, 5]\\n}\\n'"
      ]
     },
     "execution_count": 4,
     "metadata": {},
     "output_type": "execute_result"
    }
   ],
   "source": [
    "GROUP_CLUSTER_TASK = \"\"\"\n",
    "Group the following clusters into broader categories based on their summaries.\n",
    "\n",
    "Return only a dict of broader categories as keys and their corresponding cluster IDs groups as values, do not give explanations.\n",
    "\n",
    "Rules:\n",
    "1. Each category name must be unique with two words maximum.\n",
    "2. Category name must be in snake_case.\n",
    "3. Border categories are constrained to a maximum number of 10.\n",
    "\n",
    "For example:\n",
    "{{\n",
    "    \"category_1\": [1, 2, 3],\n",
    "    \"category_2\": [4, 5]\n",
    "}}\n",
    "\n",
    "Here are the inputs displayed in the format of \"cluster_id: summary\":\n",
    "{INPUT}\n",
    "\"\"\"\n",
    "\n",
    "input_string = \"\\n\".join([f\"{cluster_id}: {summary}\" for cluster_id, summary in cluster_summary.items()])\n",
    "\n",
    "prompt = GROUP_CLUSTER_TASK.format(INPUT=input_string)\n",
    "prompt"
   ]
  },
  {
   "cell_type": "code",
   "execution_count": 5,
   "id": "ec16c8ce",
   "metadata": {},
   "outputs": [],
   "source": [
    "completion = client.chat.completions.create(\n",
    "        model=\"openai/gpt-5:cheap\",\n",
    "        messages=[\n",
    "            {\n",
    "            \"role\": \"user\",\n",
    "            \"content\": prompt\n",
    "            }\n",
    "        ]\n",
    "    )"
   ]
  },
  {
   "cell_type": "code",
   "execution_count": 6,
   "id": "6b3e8ce3",
   "metadata": {},
   "outputs": [
    {
     "data": {
      "text/plain": [
       "'{\\n    \"violent_harm\": [24, 32, 38, 39, 45, 50, 57, 61, 64, 68, 69, 70, 78, 79, 84, 90, 92, 101, 105, 111, 116, 120, 122, 127, 128, 147, 148, 153, 157, 160, 164, 165],\\n    \"theft_fraud\": [26, 27, 33, 63, 81, 87, 102, 118, 129, 131, 132, 134, 141, 144, 145, 146, 152, 154, 159, 161, 162, 163, 166, 167, 168, 169, 170, 171],\\n    \"cyber_privacy\": [4, 6, 12, 14, 15, 16, 17, 18, 19, 20, 21, 22, 23, 56, 80, 86, 91, 150, 155, 156],\\n    \"drugs_alcohol\": [40, 41, 51, 55, 71, 88, 108, 109, 110, 113, 117],\\n    \"harassment_abuse\": [47, 49, 52, 53, 66, 76, 77, 83, 85, 95, 97, 98, 119, 121, 126, 130, 133, 138, 142, 143, 151],\\n    \"explicit_content\": [29, 93, 114, 115, 123, 135, 136, 137, 139, 140],\\n    \"sexual_misconduct\": [34, 48, 54, 60, 75],\\n    \"hate_extremism\": [0, 3, 7, 8, 35, 36, 42, 43, 46, 58, 62, 65, 67, 72, 74, 82, 99, 100, 106, 107, 112, 124, 125],\\n    \"politics_controversy\": [1, 2, 5, 9, 10, 11, 13, 25, 30, 31, 37, 89],\\n    \"evasion_cheating\": [28, 44, 59, 73, 94, 96, 103, 104, 149]\\n}'"
      ]
     },
     "execution_count": 6,
     "metadata": {},
     "output_type": "execute_result"
    }
   ],
   "source": [
    "completion.choices[0].message.content"
   ]
  },
  {
   "cell_type": "code",
   "execution_count": null,
   "id": "07bdba2b",
   "metadata": {},
   "outputs": [],
   "source": []
  }
 ],
 "metadata": {
  "kernelspec": {
   "display_name": "guardian-loop",
   "language": "python",
   "name": "python3"
  },
  "language_info": {
   "codemirror_mode": {
    "name": "ipython",
    "version": 3
   },
   "file_extension": ".py",
   "mimetype": "text/x-python",
   "name": "python",
   "nbconvert_exporter": "python",
   "pygments_lexer": "ipython3",
   "version": "3.10.18"
  }
 },
 "nbformat": 4,
 "nbformat_minor": 5
}
